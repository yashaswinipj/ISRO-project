{
  "nbformat": 4,
  "nbformat_minor": 0,
  "metadata": {
    "colab": {
      "name": "Untitled3.ipynb",
      "version": "0.3.2",
      "provenance": [],
      "include_colab_link": true
    },
    "kernelspec": {
      "name": "python3",
      "display_name": "Python 3"
    }
  },
  "cells": [
    {
      "cell_type": "markdown",
      "metadata": {
        "id": "view-in-github",
        "colab_type": "text"
      },
      "source": [
        "<a href=\"https://colab.research.google.com/github/yashaswinipj/ISRO-project/blob/master/k-NN2.ipynb\" target=\"_parent\"><img src=\"https://colab.research.google.com/assets/colab-badge.svg\" alt=\"Open In Colab\"/></a>"
      ]
    },
    {
      "metadata": {
        "id": "WQzZ6gc1Wg94",
        "colab_type": "code",
        "colab": {}
      },
      "cell_type": "code",
      "source": [
        "import numpy as np\n",
        "import heapq\n",
        "from collections import Counter\n",
        "from sklearn.metrics.pairwise import cosine_similarity\n",
        "from sklearn import datasets, model_selection\n",
        "from sklearn.metrics import classification_report"
      ],
      "execution_count": 0,
      "outputs": []
    },
    {
      "metadata": {
        "id": "mIfN64IiXRq2",
        "colab_type": "code",
        "colab": {}
      },
      "cell_type": "code",
      "source": [
        "from sklearn.datasets import fetch_openml"
      ],
      "execution_count": 0,
      "outputs": []
    },
    {
      "metadata": {
        "id": "pu_S5ZFXXmBw",
        "colab_type": "code",
        "colab": {}
      },
      "cell_type": "code",
      "source": [
        "mnist= fetch_openml('mnist_784', version=1)"
      ],
      "execution_count": 0,
      "outputs": []
    },
    {
      "metadata": {
        "id": "xcXe7HddXoqn",
        "colab_type": "code",
        "colab": {}
      },
      "cell_type": "code",
      "source": [
        "data, target = mnist.data, mnist.target"
      ],
      "execution_count": 0,
      "outputs": []
    },
    {
      "metadata": {
        "id": "O6-o3yW-XwKr",
        "colab_type": "code",
        "colab": {}
      },
      "cell_type": "code",
      "source": [
        "indx = np.random.choice(len(target), 70000, replace=False)\n",
        "\n",
        "\n",
        "def mk_dataset(size):\n",
        "   \n",
        "    train_img = [data[i] for i in indx[:size]]\n",
        "    train_img = np.array(train_img)\n",
        "    train_target = [target[i] for i in indx[:size]]\n",
        "    train_target = np.array(train_target)\n",
        "    \n",
        "    return train_img, train_target"
      ],
      "execution_count": 0,
      "outputs": []
    },
    {
      "metadata": {
        "id": "uc86tlL-XzhR",
        "colab_type": "code",
        "outputId": "36d41834-d23e-4d37-80e7-ff03b4bdf4b5",
        "colab": {
          "base_uri": "https://localhost:8080/",
          "height": 35
        }
      },
      "cell_type": "code",
      "source": [
        "fifty_x, fifty_y = mk_dataset(50000)\n",
        "fifty_x.shape, fifty_y.shape"
      ],
      "execution_count": 8,
      "outputs": [
        {
          "output_type": "execute_result",
          "data": {
            "text/plain": [
              "((50000, 784), (50000,))"
            ]
          },
          "metadata": {
            "tags": []
          },
          "execution_count": 8
        }
      ]
    },
    {
      "metadata": {
        "id": "No3swilEX398",
        "colab_type": "code",
        "outputId": "7f69bc96-0bdf-4a32-c52d-d1bbc46a5b77",
        "colab": {
          "base_uri": "https://localhost:8080/",
          "height": 35
        }
      },
      "cell_type": "code",
      "source": [
        "test_img = [data[i] for i in indx[60000:70000]]\n",
        "test_img1 = np.array(test_img)\n",
        "test_target = [target[i] for i in indx[60000:70000]]\n",
        "test_target1 = np.array(test_target)\n",
        "test_img1.shape, test_target1.shape"
      ],
      "execution_count": 9,
      "outputs": [
        {
          "output_type": "execute_result",
          "data": {
            "text/plain": [
              "((10000, 784), (10000,))"
            ]
          },
          "metadata": {
            "tags": []
          },
          "execution_count": 9
        }
      ]
    },
    {
      "metadata": {
        "id": "kJySf85JX8j8",
        "colab_type": "code",
        "colab": {}
      },
      "cell_type": "code",
      "source": [
        "def cos_knn(k, test_data, test_target, stored_data, stored_target):\n",
        "   \n",
        "    \n",
        "    cosim = cosine_similarity(test_data, stored_data)\n",
        "    \n",
        "    top = [(heapq.nlargest((k), range(len(i)), i.take)) for i in cosim]\n",
        "    \n",
        "    top = [[stored_target[j] for j in i[:k]] for i in top]\n",
        "    \n",
        "   \n",
        "    pred = [max(set(i), key=i.count) for i in top]\n",
        "    pred = np.array(pred)\n",
        "    print(classification_report(test_target, pred))\n"
      ],
      "execution_count": 0,
      "outputs": []
    },
    {
      "metadata": {
        "id": "3YG6NgFTC3ux",
        "colab_type": "code",
        "colab": {
          "base_uri": "https://localhost:8080/",
          "height": 347
        },
        "outputId": "acb5997e-28f7-415e-ea22-7bbc62e42533"
      },
      "cell_type": "code",
      "source": [
        "%%time\n",
        "cos_knn(5, test_img1, test_target1, fifty_x, fifty_y)"
      ],
      "execution_count": 11,
      "outputs": [
        {
          "output_type": "stream",
          "text": [
            "              precision    recall  f1-score   support\n",
            "\n",
            "           0       0.97      1.00      0.98       975\n",
            "           1       0.98      0.99      0.99      1199\n",
            "           2       0.99      0.97      0.98      1026\n",
            "           3       0.98      0.97      0.97       992\n",
            "           4       0.99      0.96      0.97       977\n",
            "           5       0.99      0.97      0.98       872\n",
            "           6       0.98      0.99      0.99       933\n",
            "           7       0.98      0.97      0.98      1041\n",
            "           8       0.98      0.97      0.97      1020\n",
            "           9       0.93      0.97      0.95       965\n",
            "\n",
            "   micro avg       0.98      0.98      0.98     10000\n",
            "   macro avg       0.98      0.98      0.98     10000\n",
            "weighted avg       0.98      0.98      0.98     10000\n",
            "\n",
            "CPU times: user 5min 46s, sys: 3.49 s, total: 5min 50s\n",
            "Wall time: 5min 25s\n"
          ],
          "name": "stdout"
        }
      ]
    },
    {
      "metadata": {
        "id": "yqyiV6HmC-s6",
        "colab_type": "code",
        "colab": {}
      },
      "cell_type": "code",
      "source": [
        ""
      ],
      "execution_count": 0,
      "outputs": []
    }
  ]
}