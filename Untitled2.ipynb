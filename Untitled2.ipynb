{
  "nbformat": 4,
  "nbformat_minor": 0,
  "metadata": {
    "colab": {
      "name": "Untitled2.ipynb",
      "version": "0.3.2",
      "provenance": [],
      "include_colab_link": true
    },
    "kernelspec": {
      "name": "python3",
      "display_name": "Python 3"
    }
  },
  "cells": [
    {
      "cell_type": "markdown",
      "metadata": {
        "id": "view-in-github",
        "colab_type": "text"
      },
      "source": [
        "<a href=\"https://colab.research.google.com/github/yashaswinipj/ISRO-project/blob/master/Untitled2.ipynb\" target=\"_parent\"><img src=\"https://colab.research.google.com/assets/colab-badge.svg\" alt=\"Open In Colab\"/></a>"
      ]
    },
    {
      "metadata": {
        "id": "8DYGr1O-DPGB",
        "colab_type": "code",
        "colab": {}
      },
      "cell_type": "code",
      "source": [
        "import numpy as np\n",
        "\n",
        "from sklearn import datasets, model_selection\n",
        "from sklearn.neighbors import KNeighborsClassifier\n",
        "from sklearn.metrics import classification_report"
      ],
      "execution_count": 0,
      "outputs": []
    },
    {
      "metadata": {
        "id": "c2EMx532DXvL",
        "colab_type": "code",
        "colab": {}
      },
      "cell_type": "code",
      "source": [
        "from sklearn.datasets import fetch_openml"
      ],
      "execution_count": 0,
      "outputs": []
    },
    {
      "metadata": {
        "id": "V-kOFI0dDh0Y",
        "colab_type": "code",
        "colab": {}
      },
      "cell_type": "code",
      "source": [
        " mnist= fetch_openml('mnist_784', version=1)"
      ],
      "execution_count": 0,
      "outputs": []
    },
    {
      "metadata": {
        "id": "UGj_newaDkeo",
        "colab_type": "code",
        "colab": {}
      },
      "cell_type": "code",
      "source": [
        "data, target = mnist.data, mnist.target"
      ],
      "execution_count": 0,
      "outputs": []
    },
    {
      "metadata": {
        "id": "FeyNgk7VDx5T",
        "colab_type": "code",
        "colab": {}
      },
      "cell_type": "code",
      "source": [
        "indx = np.random.choice(len(target), 70000, replace=False)\n",
        "\n",
        "\n",
        "def mk_dataset(size):\n",
        "   \n",
        "    train_img = [data[i] for i in indx[:size]]\n",
        "    train_img = np.array(train_img)\n",
        "    train_target = [target[i] for i in indx[:size]]\n",
        "    train_target = np.array(train_target)\n",
        "    \n",
        "    return train_img, train_target"
      ],
      "execution_count": 0,
      "outputs": []
    },
    {
      "metadata": {
        "id": "zsOGiaKeD4RT",
        "colab_type": "code",
        "colab": {
          "base_uri": "https://localhost:8080/",
          "height": 35
        },
        "outputId": "f9a9c693-9e45-4048-830f-b81575c56af4"
      },
      "cell_type": "code",
      "source": [
        "fifty_x, fifty_y = mk_dataset(50000)\n",
        "fifty_x.shape, fifty_y.shape"
      ],
      "execution_count": 6,
      "outputs": [
        {
          "output_type": "execute_result",
          "data": {
            "text/plain": [
              "((50000, 784), (50000,))"
            ]
          },
          "metadata": {
            "tags": []
          },
          "execution_count": 6
        }
      ]
    },
    {
      "metadata": {
        "id": "YDn1kEj2D7S6",
        "colab_type": "code",
        "colab": {
          "base_uri": "https://localhost:8080/",
          "height": 35
        },
        "outputId": "843d3c93-1413-4f3b-e8db-862408ad5016"
      },
      "cell_type": "code",
      "source": [
        "test_img = [data[i] for i in indx[60000:70000]]\n",
        "test_img1 = np.array(test_img)\n",
        "test_target = [target[i] for i in indx[60000:70000]]\n",
        "test_target1 = np.array(test_target)\n",
        "test_img1.shape, test_target1.shape"
      ],
      "execution_count": 7,
      "outputs": [
        {
          "output_type": "execute_result",
          "data": {
            "text/plain": [
              "((10000, 784), (10000,))"
            ]
          },
          "metadata": {
            "tags": []
          },
          "execution_count": 7
        }
      ]
    },
    {
      "metadata": {
        "id": "FMkCGD__D_2m",
        "colab_type": "code",
        "colab": {}
      },
      "cell_type": "code",
      "source": [
        "def skl_knn(k, test_data, test_target, stored_data, stored_target):\n",
        "   \n",
        "    \n",
        "    classifier = KNeighborsClassifier(n_neighbors=k)  \n",
        "    classifier.fit(stored_data, stored_target)\n",
        "\n",
        "    y_pred = classifier.predict(test_data) \n",
        "\n",
        "    print(classification_report(test_target, y_pred))"
      ],
      "execution_count": 0,
      "outputs": []
    },
    {
      "metadata": {
        "id": "ZqyL1rvkEEf2",
        "colab_type": "code",
        "colab": {
          "base_uri": "https://localhost:8080/",
          "height": 347
        },
        "outputId": "a6bc50b4-2df6-4272-fa2e-4078734d532a"
      },
      "cell_type": "code",
      "source": [
        "%%time\n",
        "# stored data set size of 50,000\n",
        "skl_knn(5, test_img1, test_target1, fifty_x, fifty_y)"
      ],
      "execution_count": 9,
      "outputs": [
        {
          "output_type": "stream",
          "text": [
            "              precision    recall  f1-score   support\n",
            "\n",
            "           0       0.98      1.00      0.99      1008\n",
            "           1       0.95      0.99      0.97      1110\n",
            "           2       0.98      0.96      0.97       988\n",
            "           3       0.97      0.97      0.97      1035\n",
            "           4       0.97      0.96      0.97      1048\n",
            "           5       0.97      0.96      0.96       880\n",
            "           6       0.97      0.98      0.98       942\n",
            "           7       0.97      0.97      0.97      1017\n",
            "           8       0.99      0.94      0.96       996\n",
            "           9       0.95      0.96      0.96       976\n",
            "\n",
            "   micro avg       0.97      0.97      0.97     10000\n",
            "   macro avg       0.97      0.97      0.97     10000\n",
            "weighted avg       0.97      0.97      0.97     10000\n",
            "\n",
            "CPU times: user 15min 3s, sys: 80.2 ms, total: 15min 3s\n",
            "Wall time: 15min 4s\n"
          ],
          "name": "stdout"
        }
      ]
    },
    {
      "metadata": {
        "id": "a8GKqz01EHmR",
        "colab_type": "code",
        "colab": {}
      },
      "cell_type": "code",
      "source": [
        ""
      ],
      "execution_count": 0,
      "outputs": []
    }
  ]
}